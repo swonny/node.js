{
 "cells": [
  {
   "cell_type": "markdown",
   "id": "72f495a0",
   "metadata": {},
   "source": [
    "# 03. 노드 기능 알아보기"
   ]
  },
  {
   "cell_type": "markdown",
   "id": "6bfbe83e",
   "metadata": {},
   "source": [
    "## 03.1 REPL 사용하기\n",
    "\n",
    "터미널에 ```node```를 치면 콘솔로 사용 가능하다."
   ]
  },
  {
   "cell_type": "markdown",
   "id": "168551df",
   "metadata": {},
   "source": [
    "## 03.2 JS 파일 실행\n",
    "\n",
    "```node [자바스크립트 파일 경로]``` (확장자(.js)는 생략 가능)"
   ]
  },
  {
   "cell_type": "code",
   "execution_count": 3,
   "id": "53ec16c4",
   "metadata": {
    "scrolled": true
   },
   "outputs": [
    {
     "name": "stdout",
     "output_type": "stream",
     "text": [
      "Hello World\n",
      "Hello Node\n"
     ]
    },
    {
     "data": {
      "text/plain": [
       "undefined"
      ]
     },
     "execution_count": 3,
     "metadata": {},
     "output_type": "execute_result"
    }
   ],
   "source": [
    "function helloWorld() {\n",
    "    console.log('Hello World');\n",
    "    helloNode();\n",
    "}\n",
    "\n",
    "function helloNode() {\n",
    "    console.log('Hello Node');\n",
    "}\n",
    "\n",
    "helloWorld();"
   ]
  },
  {
   "cell_type": "markdown",
   "id": "711829c6",
   "metadata": {},
   "source": [
    "## 03.3 모듈로 만들기\n",
    "\n",
    "노드는 코드를 모듈로 만들 수 있다는 점에서 자바스크립트와 다르다. 모듈은 import/export가 가능하다. 필요한 모듈을 import/export해서 사용할 수 있다."
   ]
  },
  {
   "cell_type": "markdown",
   "id": "e06a7176",
   "metadata": {},
   "source": [
    "### func.js"
   ]
  },
  {
   "cell_type": "code",
   "execution_count": null,
   "id": "ab9d372c",
   "metadata": {},
   "outputs": [],
   "source": [
    "const { odd, even } = require('./var');\n",
    "\n",
    "function checkOddOrEven(num) {\n",
    "    if (num % 2) {\n",
    "        return odd;\n",
    "    }\n",
    "    return even;\n",
    "}\n",
    "\n",
    "module.exports = checkOddOrEven;"
   ]
  },
  {
   "cell_type": "markdown",
   "id": "ca7f1e95",
   "metadata": {},
   "source": [
    "### var.js"
   ]
  },
  {
   "cell_type": "code",
   "execution_count": null,
   "id": "d4dda2a2",
   "metadata": {},
   "outputs": [],
   "source": [
    "const odd = '홀수입니다.';\n",
    "const even = '짝수입니다.';\n",
    "\n",
    "module.exports = {\n",
    "    odd,\n",
    "    even,\n",
    "};"
   ]
  },
  {
   "cell_type": "markdown",
   "id": "e0c4ed74",
   "metadata": {},
   "source": [
    "require 함수 안에 불러올 모듈의 경로를 적는다. 이때 확장자 js 또는 json은 생략 가능하다."
   ]
  },
  {
   "cell_type": "markdown",
   "id": "a4909e71",
   "metadata": {},
   "source": [
    "### index.js"
   ]
  },
  {
   "cell_type": "code",
   "execution_count": null,
   "id": "d70b5341",
   "metadata": {},
   "outputs": [],
   "source": [
    "const { odd, even } = require('./var');\n",
    "const checkNumber = require('./func');\n",
    "\n",
    "function checkStringOddOrEven(str) {\n",
    "    if (str.length % 2) {\n",
    "        return odd;\n",
    "    }\n",
    "    return even;\n",
    "}\n",
    "\n",
    "console.log(checkNumber(10));\n",
    "console.log(checkStringOddOrEven('hello'));"
   ]
  },
  {
   "cell_type": "markdown",
   "id": "80e78bc0",
   "metadata": {},
   "source": [
    "#### 실행 결과\n",
    "\n",
    "➜  nodejs git:(main) ✗ node \"/Users/choeseung-won/nodejs/03_노드기능알아보기/index.js\"\n",
    "짝수입니다.\n",
    "홀수입니다."
   ]
  },
  {
   "cell_type": "markdown",
   "id": "715d429c",
   "metadata": {},
   "source": [
    "### 모듈 사용\n",
    "\n",
    "1. require() 함수를 통해 불러올 수 있다. 이때 인자로 경로를 넘겨주기만 하면 된다.\n",
    "2. 모듈은 불러오는 모듈에 의해 다른 변수명으로 불러올 수 있다.\n",
    "\n",
    "#### ES2015 모듈\n",
    "ES2015가 도입되면서 자바스크립트도 자체 모듈 시스템 문법이 생겼다.\n",
    "```javascript\n",
    "import { odd, even } from './var';\n",
    "\n",
    "function checkOddOrEven(num) {\n",
    "    if (num % 2) {\n",
    "        return odd;\n",
    "    }\n",
    "    return even;\n",
    "}\n",
    "\n",
    "export default checkOddOrEven;\n",
    "```\n",
    "\n",
    "```require('./var');``` => ```import { odd, even } from './var';```<br/>\n",
    "```module.exports = checkOddOrEven;``` => ```export default checkOddOrEven;```"
   ]
  },
  {
   "cell_type": "markdown",
   "id": "b3ba7c6d",
   "metadata": {},
   "source": [
    "## 03.4 노드 내장 객체 알아보기"
   ]
  },
  {
   "cell_type": "markdown",
   "id": "1adeadcf",
   "metadata": {},
   "source": [
    "module 객체와 require 함수는 따로 선언하지 않았지만 노드에서 기본적으로 제공하는 내장 객체이기 때문에 바로 사용 가능하다."
   ]
  },
  {
   "cell_type": "markdown",
   "id": "1f6d3f27",
   "metadata": {},
   "source": [
    "### 03.4.1 global\n",
    "\n",
    "- window와 같은 전역 객체\n",
    "- 남발하여 사용하는 것은 좋지 않다. (유지보수에 어려움 발생)"
   ]
  },
  {
   "cell_type": "markdown",
   "id": "7c1e67bf",
   "metadata": {},
   "source": [
    "### globalA.js"
   ]
  },
  {
   "cell_type": "code",
   "execution_count": null,
   "id": "fe647484",
   "metadata": {},
   "outputs": [],
   "source": [
    "module.exports = () => global.message;"
   ]
  },
  {
   "cell_type": "markdown",
   "id": "6581f02d",
   "metadata": {},
   "source": [
    "### globalB.js"
   ]
  },
  {
   "cell_type": "code",
   "execution_count": null,
   "id": "44fe0946",
   "metadata": {},
   "outputs": [],
   "source": [
    "const A = require('./globalA');\n",
    "\n",
    "global.message = '안녕하세요';\n",
    "console.log(A());"
   ]
  },
  {
   "cell_type": "markdown",
   "id": "f418499b",
   "metadata": {},
   "source": [
    "#### 실행 결과\n",
    "\n",
    "안녕하세요"
   ]
  },
  {
   "cell_type": "markdown",
   "id": "0ff73077",
   "metadata": {},
   "source": [
    "#### 설명\n",
    "\n",
    "global 객체의 속성으로 message를, value로 '안녕하세요'를 추가한다. global 객체는 어디에서나 사용 가능하기 때문에 globalA에서도 사용할 수 있다. 따라서 위와 같은 결과가 나타난다."
   ]
  },
  {
   "cell_type": "markdown",
   "id": "c986fe92",
   "metadata": {},
   "source": [
    "### 03.4.2 console\n",
    "\n",
    "console 객체에는 디버깅을 위한 다양한 메서드 제공됨"
   ]
  },
  {
   "cell_type": "code",
   "execution_count": 4,
   "id": "a4541901",
   "metadata": {},
   "outputs": [
    {
     "name": "stdout",
     "output_type": "stream",
     "text": [
      "평범한 로그입니다 쉼표로 구분해 여러 값을 찍을 수 있습니다.\n",
      "abc 1 true\n"
     ]
    },
    {
     "name": "stderr",
     "output_type": "stream",
     "text": [
      "에러 메세지는 console.log에 담아주세요\n"
     ]
    },
    {
     "name": "stdout",
     "output_type": "stream",
     "text": [
      "{ outside: { inside: { key: 'value' } } }\n",
      "{ outside: { inside: \u001b[36m[Object]\u001b[39m } }\n",
      "시간 측정: 3.377ms\n"
     ]
    },
    {
     "name": "stderr",
     "output_type": "stream",
     "text": [
      "Trace: 에러 위치 추적\n",
      "    at b (evalmachine.<anonymous>:27:13)\n",
      "    at a (evalmachine.<anonymous>:30:5)\n",
      "    at evalmachine.<anonymous>:33:1\n",
      "    at Script.runInThisContext (node:vm:129:12)\n",
      "    at Object.runInThisContext (node:vm:313:38)\n",
      "    at run ([eval]:1020:15)\n",
      "    at onRunRequest ([eval]:864:18)\n",
      "    at onMessage ([eval]:828:13)\n",
      "    at process.emit (node:events:513:28)\n",
      "    at emit (node:internal/child_process:937:14)\n"
     ]
    },
    {
     "name": "stdout",
     "output_type": "stream",
     "text": [
      "전체 시간: 9.48ms\n"
     ]
    },
    {
     "data": {
      "text/plain": [
       "undefined"
      ]
     },
     "execution_count": 4,
     "metadata": {},
     "output_type": "execute_result"
    }
   ],
   "source": [
    "const string = 'abc';\n",
    "const number = 1;\n",
    "const boolean = true;\n",
    "const obj = {\n",
    "    outside: {\n",
    "        inside: {\n",
    "            key: 'value',\n",
    "        },\n",
    "    },\n",
    "};\n",
    "\n",
    "console.time('전체 시간');\n",
    "console.log('평범한 로그입니다 쉼표로 구분해 여러 값을 찍을 수 있습니다.');\n",
    "console.log(string, number, boolean);\n",
    "console.error('에러 메세지는 console.log에 담아주세요');\n",
    "\n",
    "console.dir(obj, { colors: false, depth: 2 });\n",
    "console.dir(obj, { colors: true, depth: 1 });\n",
    "\n",
    "console.time('시간 측정');\n",
    "for (let i = 0; i < 100000; i ++) {\n",
    "    continue;\n",
    "}\n",
    "console.timeEnd('시간 측정');\n",
    "\n",
    "function b() {\n",
    "    console.trace('에러 위치 추적');\n",
    "}\n",
    "function a() {\n",
    "    b();\n",
    "}\n",
    "\n",
    "a();\n",
    "\n",
    "console.timeEnd('전체 시간');"
   ]
  },
  {
   "cell_type": "markdown",
   "id": "d7be527c",
   "metadata": {},
   "source": [
    "### 03.4.3 타이머\n",
    "\n",
    "```setTimeout(콜백 함수, 밀리초)``` : 주어진 밀리초(1000분의 1초) 이후에 콜백 함수를 실행한다. <br/>\n",
    "```setInterval(콜백 함수, 밀리초)``` : 주어진 밀리초마다 콜백 함수를 반복 실행한다.<br/>\n",
    "```setImmediate(콜백 함수)``` : 콜백 함수를 즉시 실행한다.<br/>\n",
    "\n",
    "```clearTimeout(콜백 함수, 밀리초)``` : setTimeout 취소 <br/>\n",
    "```clearInterval(콜백 함수, 밀리초)``` : setInterval 취소<br/>\n",
    "```clearImmediate(콜백 함수)``` : setImmediate 취소<br/>"
   ]
  },
  {
   "cell_type": "markdown",
   "id": "5650837f",
   "metadata": {},
   "source": [
    "### 03.4.4 __filename, __dirname"
   ]
  },
  {
   "cell_type": "code",
   "execution_count": 6,
   "id": "31b2ad86",
   "metadata": {},
   "outputs": [
    {
     "name": "stdout",
     "output_type": "stream",
     "text": [
      "[eval]\n",
      ".\n"
     ]
    },
    {
     "data": {
      "text/plain": [
       "undefined"
      ]
     },
     "execution_count": 6,
     "metadata": {},
     "output_type": "execute_result"
    }
   ],
   "source": [
    "console.log(__filename);\n",
    "console.log(__dirname);"
   ]
  },
  {
   "cell_type": "markdown",
   "id": "64024dc1",
   "metadata": {},
   "source": [
    "### 03.4.5 module, exports"
   ]
  },
  {
   "cell_type": "code",
   "execution_count": null,
   "id": "d8873169",
   "metadata": {},
   "outputs": [],
   "source": [
    "const odd = '홀수입니다.';\n",
    "const even = '짝수입니다.';\n",
    "\n",
    "module.exports = {\n",
    "    odd,\n",
    "    even,\n",
    "};\n",
    "\n",
    "// 아래로 대체 가능\n",
    "exports.odd = '홀수입니다';\n",
    "exports.even = '짝수입니다.';"
   ]
  },
  {
   "cell_type": "markdown",
   "id": "7b97612e",
   "metadata": {},
   "source": [
    "exports (참조)=> module.exports (참조)=> {} 이와 같은 형태로 참조하고 있다. exports를 사용할 때는 객체만 사용할 수 있다. 따라서 함수는 대입할 수 없다."
   ]
  },
  {
   "cell_type": "markdown",
   "id": "9cdfcec5",
   "metadata": {},
   "source": [
    "### 03.04.6 process"
   ]
  },
  {
   "attachments": {
    "%E1%84%89%E1%85%B3%E1%84%8F%E1%85%B3%E1%84%85%E1%85%B5%E1%86%AB%E1%84%89%E1%85%A3%E1%86%BA%202022-09-29%20%E1%84%8B%E1%85%A9%E1%84%92%E1%85%AE%206.34.14.png": {
     "image/png": "[encoded data removed]"
    }
   },
   "cell_type": "markdown",
   "id": "187079b2",
   "metadata": {},
   "source": [
    "![%E1%84%89%E1%85%B3%E1%84%8F%E1%85%B3%E1%84%85%E1%85%B5%E1%86%AB%E1%84%89%E1%85%A3%E1%86%BA%202022-09-29%20%E1%84%8B%E1%85%A9%E1%84%92%E1%85%AE%206.34.14.png](attachment:%E1%84%89%E1%85%B3%E1%84%8F%E1%85%B3%E1%84%85%E1%85%B5%E1%86%AB%E1%84%89%E1%85%A3%E1%86%BA%202022-09-29%20%E1%84%8B%E1%85%A9%E1%84%92%E1%85%AE%206.34.14.png)"
   ]
  },
  {
   "cell_type": "markdown",
   "id": "0f5843dc",
   "metadata": {},
   "source": [
    "### 03.4.6 process.env\n",
    "\n",
    "출력되는 변수들은 시스템 환경변수이다. process.env는 서비스의 중요한 키를 저장하는 공간으로도 사용된다.\n",
    "\n",
    "```javascript\n",
    "const secretId = process.env.SECRET_ID;\n",
    "```\n",
    "위와 같이 process.env에 직접 SECRET_ID를 넣어주면 된다.\n",
    "\n",
    "#### 9장 dotenv에서 자세히 다룸."
   ]
  },
  {
   "cell_type": "markdown",
   "id": "611e581d",
   "metadata": {},
   "source": [
    "### 03.4.6 process.nextTick(콜백)\n",
    "\n",
    "- 이벤트 루프가 다른 콜백 함수들보다 nextTick의 콜백 함수를 우선적으로 처리하도록 만든다.\n",
    "- process.nextTick은 setImmediate나 setTimeout보다 먼저 실행된다.\n",
    "- Promise.resolve() : resolve된 Promise도 다른 콜백보다 우선순위가 높다.\n",
    "\n",
    "#### 마이크로태스크\n",
    "process.nextTick과 Promise를 의미한다."
   ]
  },
  {
   "cell_type": "code",
   "execution_count": 8,
   "id": "ca810119",
   "metadata": {},
   "outputs": [
    {
     "data": {
      "text/plain": [
       "Promise { <pending> }"
      ]
     },
     "execution_count": 8,
     "metadata": {},
     "output_type": "execute_result"
    },
    {
     "name": "stdout",
     "output_type": "stream",
     "text": [
      "nextTick\n",
      "promise\n",
      "immediate\n",
      "timeout\n"
     ]
    }
   ],
   "source": [
    "setImmediate(() => {\n",
    "    console.log('immediate');\n",
    "});\n",
    "process.nextTick(() => {\n",
    "    console.log('nextTick');\n",
    "});\n",
    "setTimeout(() => {\n",
    "    console.log('timeout');\n",
    "}, 0);\n",
    "Promise.resolve().then(() => console.log('promise'));"
   ]
  },
  {
   "cell_type": "markdown",
   "id": "93d1d571",
   "metadata": {},
   "source": [
    "### process.exit(코드)\n",
    "\n",
    "실행 중인 노드 프로세스를 종료한다."
   ]
  },
  {
   "cell_type": "markdown",
   "id": "bf3d2a90",
   "metadata": {},
   "source": [
    "## 03.5 노드 내장 모듈 사용하기"
   ]
  },
  {
   "cell_type": "markdown",
   "id": "83a8a6ec",
   "metadata": {},
   "source": [
    "### 03.5.1 os\n",
    "\n",
    "자바스크립트는 운영체제 정보를 가져올 수 없지만 노드는 os모듈에 정보가 담겨 있어 정보를 가져올 수 있다."
   ]
  },
  {
   "cell_type": "code",
   "execution_count": 9,
   "id": "b62bdc84",
   "metadata": {},
   "outputs": [
    {
     "name": "stdout",
     "output_type": "stream",
     "text": [
      "------------운영체제 정보----------\n",
      "x64\n",
      "darwin\n",
      "Darwin\n",
      "1831696\n",
      "choeseung-won-ui-MacBookAir.local\n",
      "21.4.0\n",
      "------------경로----------\n",
      "/Users/choeseung-won\n",
      "/var/folders/jt/r_6_crx97j7f9qpf__zcl6qh0000gn/T\n",
      "------------cpu 정보----------\n",
      "[\n",
      "  {\n",
      "    model: 'Intel(R) Core(TM) i5-8210Y CPU @ 1.60GHz',\n",
      "    speed: 1600,\n",
      "    times: { user: 72542270, nice: 0, sys: 42254740, idle: 334979750, irq: 0 }\n",
      "  },\n",
      "  {\n",
      "    model: 'Intel(R) Core(TM) i5-8210Y CPU @ 1.60GHz',\n",
      "    speed: 1600,\n",
      "    times: { user: 16161050, nice: 0, sys: 12286480, idle: 421282080, irq: 0 }\n",
      "  },\n",
      "  {\n",
      "    model: 'Intel(R) Core(TM) i5-8210Y CPU @ 1.60GHz',\n",
      "    speed: 1600,\n",
      "    times: { user: 70270510, nice: 0, sys: 33822120, idle: 345639180, irq: 0 }\n",
      "  },\n",
      "  {\n",
      "    model: 'Intel(R) Core(TM) i5-8210Y CPU @ 1.60GHz',\n",
      "    speed: 1600,\n",
      "    times: { user: 14862460, nice: 0, sys: 11533600, idle: 423333460, irq: 0 }\n",
      "  }\n",
      "]\n",
      "4\n",
      "------------메모리 정보----------\n",
      "142295040\n",
      "8589934592\n"
     ]
    },
    {
     "data": {
      "text/plain": [
       "undefined"
      ]
     },
     "execution_count": 9,
     "metadata": {},
     "output_type": "execute_result"
    }
   ],
   "source": [
    "const os = require('os');\n",
    "\n",
    "console.log('------------운영체제 정보----------');\n",
    "console.log(os.arch());\n",
    "console.log(os.platform());\n",
    "console.log(os.type());\n",
    "console.log(os.uptime());\n",
    "console.log(os.hostname());\n",
    "console.log(os.release());\n",
    "\n",
    "console.log('------------경로----------');\n",
    "console.log(os.homedir());\n",
    "console.log(os.tmpdir());\n",
    "\n",
    "console.log('------------cpu 정보----------');\n",
    "console.log(os.cpus());\n",
    "console.log(os.cpus().length); // 코어의 개수\n",
    "\n",
    "console.log('------------메모리 정보----------');\n",
    "console.log(os.freemem());\n",
    "console.log(os.totalmem());"
   ]
  },
  {
   "cell_type": "markdown",
   "id": "3fb5f863",
   "metadata": {},
   "source": [
    "### 03.5.2 path\n",
    "path객체를 사용하여 경로와 관련된 작업을 할 수 있다. (교재 p.95 ~ p.98) 필요할 때 참고\n",
    "\n",
    "### 03.5.3 url\n"
   ]
  }
 ],
 "metadata": {
  "kernelspec": {
   "display_name": "JavaScript (Node.js)",
   "language": "javascript",
   "name": "javascript"
  },
  "language_info": {
   "file_extension": ".js",
   "mimetype": "application/javascript",
   "name": "javascript",
   "version": "18.8.0"
  }
 },
 "nbformat": 4,
 "nbformat_minor": 5
}
