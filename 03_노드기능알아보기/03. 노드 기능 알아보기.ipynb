{
 "cells": [
  {
   "cell_type": "markdown",
   "id": "21fafd9c",
   "metadata": {},
   "source": [
    "# 03. 노드 기능 알아보기"
   ]
  },
  {
   "cell_type": "markdown",
   "id": "e89f39db",
   "metadata": {},
   "source": [
    "## REPL 사용하기\n",
    "\n",
    "터미널에 ```node```를 치면 콘솔로 사용 가능하다."
   ]
  },
  {
   "cell_type": "markdown",
   "id": "7165006a",
   "metadata": {},
   "source": [
    "## JS 파일 실행\n",
    "\n",
    "```node [자바스크립트 파일 경로]``` (확장자(.js)는 생략 가능)"
   ]
  },
  {
   "cell_type": "code",
   "execution_count": 3,
   "id": "af3666b1",
   "metadata": {
    "scrolled": true
   },
   "outputs": [
    {
     "name": "stdout",
     "output_type": "stream",
     "text": [
      "Hello World\n",
      "Hello Node\n"
     ]
    },
    {
     "data": {
      "text/plain": [
       "undefined"
      ]
     },
     "execution_count": 3,
     "metadata": {},
     "output_type": "execute_result"
    }
   ],
   "source": [
    "function helloWorld() {\n",
    "    console.log('Hello World');\n",
    "    helloNode();\n",
    "}\n",
    "\n",
    "function helloNode() {\n",
    "    console.log('Hello Node');\n",
    "}\n",
    "\n",
    "helloWorld();"
   ]
  },
  {
   "cell_type": "markdown",
   "id": "8e1a920d",
   "metadata": {},
   "source": [
    "노드는 코드를 모듈로 만들 수 있다는 점에서 자바스크립트와 다르다. 모듈은 import/export가 가능하다. 필요한 모듈을 "
   ]
  }
 ],
 "metadata": {
  "kernelspec": {
   "display_name": "JavaScript (Node.js)",
   "language": "javascript",
   "name": "javascript"
  },
  "language_info": {
   "file_extension": ".js",
   "mimetype": "application/javascript",
   "name": "javascript",
   "version": "18.8.0"
  }
 },
 "nbformat": 4,
 "nbformat_minor": 5
}
