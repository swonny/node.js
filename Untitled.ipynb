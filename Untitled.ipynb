{
 "cells": [
  {
   "cell_type": "markdown",
   "id": "a9bcb61d",
   "metadata": {},
   "source": [
    "# 02. 알아야 할 자바스크립트"
   ]
  },
  {
   "cell_type": "markdown",
   "id": "4ae8eeaa",
   "metadata": {},
   "source": [
    "### const, let, var\n",
    "\n",
    "|-|var|const|let|\n",
    "|:--:|:--:|:--:|:--:|\n",
    "|스코프|함수 스코프|블록스코프|블록스코프|\n",
    "|변경|O|X|O\n",
    "\n",
    "### 블록 스코프"
   ]
  },
  {
   "cell_type": "code",
   "execution_count": 1,
   "id": "d37e0a52",
   "metadata": {},
   "outputs": [
    {
     "name": "stdout",
     "output_type": "stream",
     "text": [
      "3\n"
     ]
    },
    {
     "ename": "ReferenceError",
     "evalue": "y is not defined",
     "output_type": "error",
     "traceback": [
      "evalmachine.<anonymous>:9",
      "console.log(y)",
      "            ^",
      "",
      "ReferenceError: y is not defined",
      "    at evalmachine.<anonymous>:9:13",
      "    at Script.runInThisContext (node:vm:129:12)",
      "    at Object.runInThisContext (node:vm:313:38)",
      "    at run ([eval]:1020:15)",
      "    at onRunRequest ([eval]:864:18)",
      "    at onMessage ([eval]:828:13)",
      "    at process.emit (node:events:513:28)",
      "    at emit (node:internal/child_process:937:14)",
      "    at process.processTicksAndRejections (node:internal/process/task_queues:83:21)"
     ]
    }
   ],
   "source": [
    "if(true) {\n",
    "    var x = 3;\n",
    "}\n",
    "console.log(x);\n",
    "\n",
    "if(true) {\n",
    "    const y = 3;\n",
    "}\n",
    "console.log(y)"
   ]
  },
  {
   "cell_type": "markdown",
   "id": "baa23b58",
   "metadata": {},
   "source": [
    "위와 같은 에러가 뜨는 이유는 var는 함수 스코프 변수이므로 if문 블록과 관계 없이 접근 가능하기 때문이고, const와 let은 블록 스코프 변수이므로 블록 바깥에서는 접근할 수 없기 때문이다."
   ]
  },
  {
   "cell_type": "markdown",
   "id": "1ce2f636",
   "metadata": {},
   "source": [
    "### 템플릿 문자열\n",
    "\n",
    "백틱(`${변수명}`)을 사용하여 변수를 더하기 기호 없이 사용할 수 있다."
   ]
  },
  {
   "cell_type": "markdown",
   "id": "9bcee013",
   "metadata": {},
   "source": [
    "### 객체 리터럴"
   ]
  },
  {
   "cell_type": "code",
   "execution_count": 4,
   "id": "1b768c21",
   "metadata": {
    "scrolled": true
   },
   "outputs": [
    {
     "name": "stdout",
     "output_type": "stream",
     "text": [
      "Node\n",
      "JS\n",
      "Fantastic\n"
     ]
    },
    {
     "data": {
      "text/plain": [
       "undefined"
      ]
     },
     "execution_count": 4,
     "metadata": {},
     "output_type": "execute_result"
    }
   ],
   "source": [
    "var sayNode = function() {\n",
    "    console.log('Node');\n",
    "};\n",
    "\n",
    "var es = 'ES';\n",
    "var oldObject = {\n",
    "    sayJS: function() { // 변경된 부분\n",
    "        console.log('JS');\n",
    "    },\n",
    "    sayNode: sayNode, // 변경된 부분\n",
    "};\n",
    "oldObject[es + 6] = 'Fantastic'; // 변경된 부분\n",
    "\n",
    "oldObject.sayNode();\n",
    "oldObject.sayJS();\n",
    "console.log(oldObject.ES6);"
   ]
  },
  {
   "cell_type": "code",
   "execution_count": 1,
   "id": "fce22190",
   "metadata": {
    "scrolled": true
   },
   "outputs": [
    {
     "ename": "ReferenceError",
     "evalue": "sayNode is not defined",
     "output_type": "error",
     "traceback": [
      "evalmachine.<anonymous>:5",
      "    sayNode, // 변경된 부분",
      "    ^",
      "",
      "ReferenceError: sayNode is not defined",
      "    at evalmachine.<anonymous>:5:5",
      "    at Script.runInThisContext (node:vm:129:12)",
      "    at Object.runInThisContext (node:vm:313:38)",
      "    at run ([eval]:1020:15)",
      "    at onRunRequest ([eval]:864:18)",
      "    at onMessage ([eval]:828:13)",
      "    at process.emit (node:events:513:28)",
      "    at emit (node:internal/child_process:937:14)",
      "    at process.processTicksAndRejections (node:internal/process/task_queues:83:21)"
     ]
    }
   ],
   "source": [
    "const newObject = {\n",
    "    sayJS() { // 변경된 부분\n",
    "        console.log('JS');\n",
    "    },\n",
    "    sayNode, // 변경된 부분\n",
    "    [es + 6]: 'Fantastic', // 변경된 부분\n",
    "};\n",
    "newObject.sayNode();\n",
    "newObject.sayJS();\n",
    "console.log(newObject.ES6);"
   ]
  },
  {
   "cell_type": "markdown",
   "id": "e4d518aa",
   "metadata": {},
   "source": [
    "1. 함수를 속성명에 대입하지 않고도 직접 쓸 수 있다.\n",
    "\n",
    "\n",
    "2. sayNode: sayNode와 같이 속성명과 변수명이 겹치는 경우에는 한 번만 쓸 수 있다. 자바스크립트에서 ```{name: name, age: age}```와 같은 경우가 많은데, 이와 같이 중복되어 변수명을 사용하는 것을 줄일 수 있다.\n",
    "\n",
    "```{속성명: 변수명}```\n",
    "\n",
    "```javascript\n",
    "{name: name, age: age} // ES5\n",
    "{name, age} // ES6\n",
    "```\n",
    "\n",
    "3. 속성을 추가할 때 객체의 바깥에서 추가하지 않아도 된다."
   ]
  },
  {
   "cell_type": "markdown",
   "id": "889ccea1",
   "metadata": {},
   "source": [
    "### 화살표 함수"
   ]
  },
  {
   "cell_type": "code",
   "execution_count": 2,
   "id": "7a3571b0",
   "metadata": {},
   "outputs": [
    {
     "name": "stdout",
     "output_type": "stream",
     "text": [
      "zero nero\n",
      "zero hero\n",
      "zero xero\n",
      "zero nero\n",
      "zero hero\n",
      "zero xero\n"
     ]
    },
    {
     "data": {
      "text/plain": [
       "undefined"
      ]
     },
     "execution_count": 2,
     "metadata": {},
     "output_type": "execute_result"
    }
   ],
   "source": [
    "var relationship1 = {\n",
    "    name: 'zero',\n",
    "    friends: ['nero', 'hero', 'xero'],\n",
    "    logFriends: function() {\n",
    "        var that = this;\n",
    "        this.friends.forEach(function(friend) {\n",
    "            console.log(that.name, friend);\n",
    "        });\n",
    "    },\n",
    "};\n",
    "relationship1.logFriends();\n",
    "\n",
    "const relationship2 = {\n",
    "    name: 'zero',\n",
    "    friends: ['nero', 'hero', 'xero'],\n",
    "    logFriends() {\n",
    "        this.friends.forEach(friend => {\n",
    "            console.log(this.name, friend);\n",
    "        });\n",
    "    }\n",
    "}\n",
    "relationship2.logFriends();"
   ]
  },
  {
   "cell_type": "markdown",
   "id": "fe13967d",
   "metadata": {},
   "source": [
    "# Q. this가 가리키는 대상?"
   ]
  },
  {
   "cell_type": "markdown",
   "id": "b2718a7d",
   "metadata": {},
   "source": [
    "### 비구조화 할당\n",
    "\n",
    "파이썬의 unpacking 개념과 유사"
   ]
  },
  {
   "cell_type": "markdown",
   "id": "3b701070",
   "metadata": {},
   "source": [
    "# Q. 프로미스"
   ]
  },
  {
   "cell_type": "markdown",
   "id": "dc3a32f7",
   "metadata": {},
   "source": [
    "# Q. async, await"
   ]
  },
  {
   "cell_type": "markdown",
   "id": "7bff95fb",
   "metadata": {},
   "source": [
    "## 프론트엔드 자바스크립트"
   ]
  },
  {
   "cell_type": "markdown",
   "id": "edbd3afc",
   "metadata": {},
   "source": [
    "### AJAX"
   ]
  },
  {
   "cell_type": "markdown",
   "id": "d192d4a2",
   "metadata": {},
   "source": [
    "### FormData"
   ]
  },
  {
   "cell_type": "markdown",
   "id": "06a20639",
   "metadata": {},
   "source": [
    "### encodedURIComponent, decodeURIComponent\n",
    "\n",
    "- 한글 주소를 이해하지 못하는 경우 window 객체의 메서드인 encodedeURIComponent를 사용한다. 노드에서도 사용 가능하다.\n",
    "- 반대의 경우 decodeURIComponent 사용"
   ]
  },
  {
   "cell_type": "markdown",
   "id": "a7f23f2c",
   "metadata": {},
   "source": [
    "### data attribute와 dataset"
   ]
  },
  {
   "cell_type": "code",
   "execution_count": null,
   "id": "5569f8b7",
   "metadata": {},
   "outputs": [],
   "source": []
  }
 ],
 "metadata": {
  "kernelspec": {
   "display_name": "JavaScript (Node.js)",
   "language": "javascript",
   "name": "javascript"
  },
  "language_info": {
   "file_extension": ".js",
   "mimetype": "application/javascript",
   "name": "javascript",
   "version": "18.8.0"
  }
 },
 "nbformat": 4,
 "nbformat_minor": 5
}
